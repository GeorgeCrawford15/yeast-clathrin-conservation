{
 "cells": [
  {
   "cell_type": "markdown",
   "id": "d84d1a0a-2441-4b98-b7c2-b91629c68277",
   "metadata": {},
   "source": [
    "## Collection of Yeast Sequences (Using Mostly Ben's Code)"
   ]
  },
  {
   "cell_type": "code",
   "execution_count": null,
   "id": "d3c47111-df56-435c-9ec4-59381fccd8a9",
   "metadata": {},
   "outputs": [],
   "source": []
  },
  {
   "cell_type": "markdown",
   "id": "f755f693-9ce8-4ded-9b5b-28c047b7017e",
   "metadata": {
    "jp-MarkdownHeadingCollapsed": true
   },
   "source": [
    "## Initial BLASTp Search"
   ]
  },
  {
   "cell_type": "code",
   "execution_count": 10,
   "id": "810684ca-e95c-4a15-9187-4080806a9cc7",
   "metadata": {},
   "outputs": [
    {
     "name": "stdout",
     "output_type": "stream",
     "text": [
      "brettanomyces_anomalus.final.pep\n",
      "brettanomyces_anomalus\n",
      "arxula_adeninivorans.final.pep\n",
      "arxula_adeninivorans\n",
      "alloascoidea_hylecoeti.final.pep\n",
      "alloascoidea_hylecoeti\n",
      "ashbya_aceri.final.pep\n",
      "ashbya_aceri\n",
      "candida_albicans.final.pep\n",
      "candida_albicans\n"
     ]
    }
   ],
   "source": [
    "import os\n",
    "import time\n",
    "import subprocess\n",
    "import pandas as pd\n",
    "pep_folder = 'data/1k-species-data/test'\n",
    "\n",
    "for pep_file in os.listdir(pep_folder):\n",
    "    if not pep_file.endswith('.final.pep'):\n",
    "        continue\n",
    "    \n",
    "    if pep_file.startswith('yH'):\n",
    "        species_name = pep_file.split('_', 1)[1].rsplit('_', 1)[0]\n",
    "        for other_file in os.listdir(pep_folder):\n",
    "            if species_name in other_file and 'final' in other_file and not other_file.startswith('yH'):\n",
    "                pep_file = other_file\n",
    "    else:\n",
    "        species_name = pep_file.rsplit('.', 2)[0]\n",
    "                \n",
    "    print(pep_file)\n",
    "    print(species_name)"
   ]
  },
  {
   "cell_type": "code",
   "execution_count": null,
   "id": "ecec83f2-f719-4b0a-ab4b-5644d07e1823",
   "metadata": {},
   "outputs": [],
   "source": [
    "import os\n",
    "import time\n",
    "import subprocess\n",
    "import pandas as pd\n",
    "\n",
    "pep_folder = 'data/1k-species-data/y1000p_pep_files'\n",
    "db_folder = 'data/1k-species-data/blast_dbs'\n",
    "hits_folder = 'data/1k-species-data/CHC1_hits'\n",
    "master_fasta = 'data/1k-species-data/1k-CHC1.fasta'\n",
    "metadata_csv = 'data/1k-species-data/CHC1_metadata.csv'\n",
    "query_fasta = 'data/1k-species-data/CHC1_seed.fasta'\n",
    "\n",
    "'''\n",
    "Add fuzzy-string logic (fuzzy wuzzy, other tool) to account for human error.\n",
    "'''\n",
    "\n",
    "metadata = []\n",
    "species_found = []\n",
    "\n",
    "for pep_file in os.listdir(pep_folder):\n",
    "    if not pep_file.endswith('.final.pep'):\n",
    "        continue\n",
    "    \n",
    "    if pep_file.startswith('yH'):\n",
    "        species_name = pep_file.split('_', 1)[1].rsplit('_', 1)[0]\n",
    "        for other_file in os.listdir(pep_folder):\n",
    "            if species_name in other_file and 'final' in other_file and not other_file.startswith('yH'):\n",
    "                pep_file = other_file\n",
    "    else:\n",
    "        species_name = pep_file.rsplit('.', 2)[0]\n",
    "                \n",
    "    print(pep_file)\n",
    "    print(species_name)\n",
    "\n",
    "    if species_name in species_found:\n",
    "        continue\n",
    "    species_found.append(species_name)\n",
    "    print(f'Processing {species_name}')\n",
    "    pep_path = os.path.join(pep_folder, pep_file)\n",
    "\n",
    "    species_folder = os.path.join(db_folder, species_name)\n",
    "    os.makedirs(species_folder, exist_ok=True)\n",
    "    db_path = os.path.join(species_folder, species_name)\n",
    "    subprocess.run([\n",
    "        'makeblastdb',\n",
    "        '-in', pep_path,\n",
    "        '-dbtype', 'prot',\n",
    "        '-out', db_path\n",
    "    ], check=True)\n",
    "    \n",
    "    hits_file = os.path.join(hits_folder, f\"{species_name}_CHC1_hits.txt\")\n",
    "    subprocess.run([\n",
    "        'blastp',\n",
    "        '-query', query_fasta,\n",
    "        '-db', db_path,\n",
    "        '-out', hits_file,\n",
    "        '-outfmt', '6'\n",
    "    ], check=True)\n",
    "\n",
    "    time.sleep(0.1)\n",
    "    \n",
    "    if os.path.exists(hits_file):\n",
    "        with open(hits_file) as f:\n",
    "            lines = f.readlines()\n",
    "        if lines:\n",
    "            # BLAST outfmt 6: qseqid sseqid pident length mismatch gapopen qstart qend sstart send evalue bitscore\n",
    "            top_hit = max(lines, key=lambda x: float(x.split()[2]))  # highest % identity\n",
    "            cols = top_hit.strip().split()\n",
    "            sseqid, pident, evalue, bitscore = cols[1], float(cols[2]), float(cols[10]), float(cols[11])\n",
    "            \n",
    "            seq_lines = []\n",
    "            record = False\n",
    "            with open(pep_path) as pep_f:\n",
    "                for line in pep_f:\n",
    "                    if line.startswith('>'):\n",
    "                        record = sseqid in line\n",
    "                        continue\n",
    "                    if record:\n",
    "                        seq_lines.append(line.strip())\n",
    "            seq = '\\n'.join([line.strip().rstrip('*') for line in seq_lines])\n",
    "            \n",
    "            with open(master_fasta, 'a') as f_out:\n",
    "                f_out.write(f'>{species_name}|{sseqid}\\n{seq}\\n')\n",
    "            \n",
    "            metadata.append([species_name, sseqid, len(seq.replace('\\n','')), pident, evalue, bitscore])\n",
    "        else:\n",
    "            print(f'No hits found for {species_name}')\n",
    "\n",
    "df = pd.DataFrame(metadata, columns=['Species', 'Hit_ID', 'Seq_Length', 'Percent_Identity', 'Evalue', 'Bitscore'])\n",
    "df.to_csv(metadata_csv, index=False)"
   ]
  },
  {
   "cell_type": "markdown",
   "id": "ce70098f-323a-413f-aab1-79fa78570d3f",
   "metadata": {
    "jp-MarkdownHeadingCollapsed": true
   },
   "source": [
    "## Emboss Cons Algorithm Recreation (tested on 2 CHC1s in the Sporopachydermia clade)"
   ]
  },
  {
   "cell_type": "code",
   "execution_count": 56,
   "id": "b8faa010-bfe6-4239-bfec-3cc0539b1b3c",
   "metadata": {},
   "outputs": [
    {
     "name": "stdout",
     "output_type": "stream",
     "text": [
      "Number of sequences: 2\n",
      "Alignment length: 4194\n"
     ]
    }
   ],
   "source": [
    "from Bio import AlignIO\n",
    "from Bio.Align import MultipleSeqAlignment\n",
    "from Bio.Align import substitution_matrices\n",
    "from Bio.Align.AlignInfo import SummaryInfo\n",
    "\n",
    "alignment = AlignIO.read('data/CHC1-fastas-by-clade/Sporopachydermia-clade_aligned_CHCs.fasta', 'fasta')\n",
    "\n",
    "print(f'Number of sequences: {len(alignment)}')\n",
    "print(f'Alignment length: {alignment.get_alignment_length()}')\n",
    "\n",
    "seq_weight = 1 # Enable different weights for different sequences\n",
    "blosum62 = substitution_matrices.load('BLOSUM62')\n",
    "plurality_value = 0.5 * (len(alignment) * seq_weight)\n",
    "consensus_seq = ''\n",
    "\n",
    "for i in range(alignment.get_alignment_length()):\n",
    "    site = alignment[:, i]\n",
    "    \n",
    "    if all(aa == '-' for aa in site):\n",
    "        consensus_seq += '-'\n",
    "        continue\n",
    "    elif all(aa == site[0] for aa in site):\n",
    "        consensus_seq += site[0]\n",
    "        continue\n",
    "        \n",
    "    scores = {}\n",
    "    for k, residue in enumerate(site):\n",
    "        if residue == '-':\n",
    "            continue\n",
    "        scores[residue] = [0, 0]\n",
    "        for j, other_residue in enumerate(site):\n",
    "            if k == j or other_residue == '-':\n",
    "                continue\n",
    "            scores[residue][0] += blosum62[residue, other_residue] * seq_weight    \n",
    "            scores[residue][1] += seq_weight if blosum62[residue, other_residue] > 0 else 0 # Fix\n",
    "\n",
    "    best_residue = max(scores, key=lambda r: scores[r][0])\n",
    "    highest_score = scores[best_residue][0]\n",
    "    positive_matches = scores[best_residue][1]\n",
    "    \n",
    "    if positive_matches >= plurality_value:\n",
    "        consensus_seq += best_residue\n",
    "    else:\n",
    "        consensus_seq += 'x'"
   ]
  },
  {
   "cell_type": "code",
   "execution_count": 57,
   "id": "de0ba821-2257-492b-9e65-d5130fa0b3dc",
   "metadata": {},
   "outputs": [
    {
     "name": "stdout",
     "output_type": "stream",
     "text": [
      "-----------------------------------------------------------------------------------------------------------------------------------------------------------------------------------------------------------------------------------------------------------------------------------------------------------------------------------------------------------------------------------------------------------------------------------------------------------------------------------------------------------------------------------------------------------------------------------------------------------------------------------------------------------------------------------------------------------------------------------------------------------------------------------------------------------------------------------------------------------------------------------------------------------------------------------------------------------------------------------------------------------------------------------------------------------------------------------------------------------------------------------------------------------------------------------------------------------------------------------------------------------------------------------------------------------------------------------------------------------------------------------------------------------------------------------------------------------------------------------------------------M-DA-----------------------------------------------------------------------------------------------------------------------------------------------------------------------------DIPI-----------------------------------------------------------------------------------------------------------------------------------------------------------------------------------------------EFQEHAVL-TELGIPQSSIDFRSCTLESDHYV--------CARISG-xx----x-xN-SVSIVDLxND-N-----------KVIQKSMSADSAIINP----DQ-----LVIAVRA---QGTIIQVFQLETKSILKSFTM---DEPVTFWKWISPTVLGLITASSIYHWxIFDGDTSKGPIKVTxVHSTL----xxCQIINYVASA-DxKWTALTGITQ-DxNGRIVGRTQLYNxDRNISQAIDGFAAGFALLRLExA--xSDSKLFVIVNR-----LxT-GAGQLHIIETDHD------PAN-P-KFEKKSxEVFFPPNAP-DDFPLSVQISNRYGIIYMLTKFGFIHIFDLxTGTNIFVNRISSDPLFTAAPFx-EHxGIIAINKRGQVLSVxISETKLVPHVLxKLANTQLALSLASRGxG--LPGADNLYEQSFNxFLAxGNYxEAAKVAAxSPRGILRT-TATIxRLRSVQ-----APPGTISPLLQYFSILIDKx-SLNKEESLELVKPLLQQGKxxLLEKWLSENKLTASEELGDIIKPx-DTAIALSVYL--------------------------RA-xVPMKVVAGLAELGQFDKILPYCxKTGYTPDYxxLVQNVAR--VNxDKAAELASQLxS----DPQTAx-xLDIAQIADVFLSQNLVxQGTAFLLDALKDNxPDQGxLQTRLLExNLxxAPQVADAILGNGIFTHYDKxAVAKLCEKAGLYQRALENYSDTADxxRVIx--HV-EAxxPEWLLxFFG-xLSxDQTFxCLRxLMKx----xSx-----PxLQAxIQVATKYSELLGxAxLIKLFEEFNSSEGLYYFLASIVNVTHDGDVVFKYIEAAAKLGQLKEVERVVRDNNFYNxxKVKxFL-KExRLxDQLPLIIVCDRFDFVHDLVLYLYQNQLFKFIEVYVQKVNPSRxPxVVAALLDVDCxExTVQALLASV-V--GQVPLKELVxxVEERNRLKLLLPYLEACLAGG-SQ-DQEIFNSLAKIYIDSNNDPEKFLRENNQYDTLVVGxYCEKRDPFLAYIAYEKGHHDxEVVKIT-NENSMFKYQARYLLSRADLDLWLxVLS-xDNI-HRRQVIDQVVxVAVPESTxPDxVSIxVRAFMSADLPxELLELLEKIILEP-SPFSDNxSLQGLLMLTAMQADPSRVxxYIExLDxYDxxDVAETAIxNGLFEEAFAIYKKHGxxLQALxVLTEHILSLDRAxxFAEQI-DTPxAWSELGxAQLKVLRISDAIxSYIKAxDASNYEEVIExADKAGKHEDLLKYLxMARQx-IRExRIDGEILxCYAxLDKxSDLESFL-QSPNAADxEAIxDRLYEEKNYKAAKILFTAVSNWAKLSSTLVYLGDYQAAVECARKASNxxVWKQVNDACIxSKEFRLAQICGLNLIIHAEELPALTAQYEYHGxFSELIALFE----------QGLGLERAHMGMFTELAILYxKYQxDKLMEHLKLFWSRLNMPKVIxAxQEAHLWPEIIFLYCHYDEWDNAALAMMEHSPDAFDHxxFKEIIxKVANLEIYYKAVNFYVSEQPSLLLDVLxVLAxRIDIxRVVRMFEKSDNLPLIKPFLVSVQEK--NLAAVNNAYNDLLIEEENYKALRDSV--DAFDRFDAIELAQRLEKHKLIFFRQLAAHLYRKNKKWxKSIALxKEDKLWxDAIETAAxSGKxEVAQDLLQYFVDTGNKECYVAxLYACYxLIxEDxVEELxWLxGLxDxTMPYKISIIKEKNNRLAALEKDNEERKR-KEx-EA-NGGxxDxxxxxA-F--G------N-RLLLTQGxA-x-----------xx----------------------------------------------------------------------------------------------------------------------xx------------P------------------------------------------------------------------------------IxA------------------------------------QxTGFx-------------------------------------------------------------------------------------------------------------------------------------------------------------------------------------------------------------------------------------------------------------------------------------------------\n"
     ]
    }
   ],
   "source": [
    "print(consensus_seq)"
   ]
  }
 ],
 "metadata": {
  "kernelspec": {
   "display_name": "Python 3 (ipykernel)",
   "language": "python",
   "name": "python3"
  },
  "language_info": {
   "codemirror_mode": {
    "name": "ipython",
    "version": 3
   },
   "file_extension": ".py",
   "mimetype": "text/x-python",
   "name": "python",
   "nbconvert_exporter": "python",
   "pygments_lexer": "ipython3",
   "version": "3.12.10"
  }
 },
 "nbformat": 4,
 "nbformat_minor": 5
}
